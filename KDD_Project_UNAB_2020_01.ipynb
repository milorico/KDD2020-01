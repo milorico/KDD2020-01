{
  "nbformat": 4,
  "nbformat_minor": 0,
  "metadata": {
    "colab": {
      "name": "KDD Project UNAB 2020_01.ipynb",
      "provenance": [],
      "authorship_tag": "ABX9TyMSYQWwevsOL7TPOaid7BIx",
      "include_colab_link": true
    },
    "kernelspec": {
      "name": "python3",
      "display_name": "Python 3"
    }
  },
  "cells": [
    {
      "cell_type": "markdown",
      "metadata": {
        "id": "view-in-github",
        "colab_type": "text"
      },
      "source": [
        "<a href=\"https://colab.research.google.com/github/milorico/KDD2020-01/blob/master/KDD_Project_UNAB_2020_01.ipynb\" target=\"_parent\"><img src=\"https://colab.research.google.com/assets/colab-badge.svg\" alt=\"Open In Colab\"/></a>"
      ]
    },
    {
      "cell_type": "markdown",
      "metadata": {
        "id": "Y3BUukO5Af_B",
        "colab_type": "text"
      },
      "source": [
        "# **Aplicacion de la metodología CRISP-DM para descubrir conocimiento  en la información de Airbnb en anuncios de hospedaje para Amsterdam y Berlin 2020 - 2021**"
      ]
    },
    {
      "cell_type": "markdown",
      "metadata": {
        "id": "3f64x3cXEIDy",
        "colab_type": "text"
      },
      "source": [
        "# Introducción\n",
        "\n",
        "CRISP-DM, proporciona una representación para la mineria de datos como se hace en la industria del software con los modelos de ciclo vital en el desarrollo de software. El modelo CRISP-DM cubre las fases de un proyecto, como un modelo de procesos, es un metodo probado para orientar proyectos de este tipo, en donde se hara mineria de datos. \n",
        "\n",
        "Compararemos las tendencias de Airbnb entre Amsterdam y Berlin durante un periodo de extension de un año, abril 2020 - 2021. Examinaremos las diferencias entre los listados y las tendencias anuales entre las dos ciudades europeas.\n",
        "\n"
      ]
    },
    {
      "cell_type": "markdown",
      "metadata": {
        "id": "yMs1EhzgDcCe",
        "colab_type": "text"
      },
      "source": [
        "# Comprensión del negocio\n",
        "\n",
        "Los tipos de datos disponibles para la realizacion del proyecto son de origen de InsideAirbnb, una iniciativa de Airbnb para permitirle a todo publico acceder y descargar informacion sobre las ofertas y reseñas en su sistema clasificadas para diferentes ciudades al rededor del mundo. Especificamente para este proyecto, utilizaremos dos archivos para cada ciudad, Listing.csv y Calendar.csv, los cuales contienen informacion sobre precios, disponiblidad, tamaño, ubicacion, anfitrion y otros datos sobre cada oferta. \n",
        "\n",
        "Para el desarrollo de este proyecto, utilizaremos herramientas online como google Collab, las cuales nos facilitan el montaje y ejecucion de los modelos, asi mismo, la creacion de un cuaderno para entablar una conversacion con el lector mientras se aprecian las graficas, ejecuta los codigos y se sacan conclusiones.\n",
        "\n",
        "El negocio del hospedaje para turismo o celebraciones se ha modernizado notablemente rapido a comparacion de otro tipo de servicios. Gracias a esto, herramientas como Airbnb, Trivago, googleFlights, le permiten al arrendatario apreciar diferentes opciones con sus especificaciones e imagenes ilustrativas, acomodaciones y demas, pero como saber que tipo de hospedaje es el mas economico o rentable para diferentes presupuestos es el proposito de esta investigacion, queremos saber que ciudad de las dos escogidas ofrece acomodaciones a mejores precios considerando una media baja y otra alta ya que las acomodaciones que ofrece la herramienta son altamente variadas y enfocadas a dos publicos objetivos diferentes previamente mencionados, es por eso que con la ayuda de calculos estadisticos y herramientas graficadoras analizaremos las ofertas de cada ciudad para ofrecer respuestas a las preguntas de investigacion planteadas. \n",
        "\n"
      ]
    },
    {
      "cell_type": "code",
      "metadata": {
        "id": "iYykskOheOwr",
        "colab_type": "code",
        "colab": {}
      },
      "source": [
        ""
      ],
      "execution_count": 0,
      "outputs": []
    }
  ]
}