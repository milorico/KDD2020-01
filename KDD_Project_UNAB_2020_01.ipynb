{
  "nbformat": 4,
  "nbformat_minor": 0,
  "metadata": {
    "colab": {
      "name": "KDD Project UNAB 2020_01.ipynb",
      "provenance": [],
      "authorship_tag": "ABX9TyO9oUM8ly2db146SMKLdUko",
      "include_colab_link": true
    },
    "kernelspec": {
      "name": "python3",
      "display_name": "Python 3"
    }
  },
  "cells": [
    {
      "cell_type": "markdown",
      "metadata": {
        "id": "view-in-github",
        "colab_type": "text"
      },
      "source": [
        "<a href=\"https://colab.research.google.com/github/milorico/KDD2020-01/blob/master/KDD_Project_UNAB_2020_01.ipynb\" target=\"_parent\"><img src=\"https://colab.research.google.com/assets/colab-badge.svg\" alt=\"Open In Colab\"/></a>"
      ]
    },
    {
      "cell_type": "markdown",
      "metadata": {
        "id": "Y3BUukO5Af_B",
        "colab_type": "text"
      },
      "source": [
        "**texto en negrita**### **Aplicacion de la metodología CRISP-DM para descubrir conocimiento  en la informacion de Airbnb en anuncios de hospedaje para Amsterdam y Berlin 2020 - 2021**"
      ]
    },
    {
      "cell_type": "markdown",
      "metadata": {
        "id": "3f64x3cXEIDy",
        "colab_type": "text"
      },
      "source": [
        "CRISP-DM, proporciona una representación para la mineria de datos como se hace en la industria del software con los modelos de ciclo vital en el desarrollo de software. El modelo CRISP-DM cubre las fases de un proyecto, como un modelo de procesos, es un metodo probado para orientar proyectos de este tipo, en donde se hara mineria de datos. \n",
        "\n",
        "Compararemos las tendencias de Airbnb entre Amsterdam y Berlin\n",
        "\n"
      ]
    },
    {
      "cell_type": "markdown",
      "metadata": {
        "id": "yMs1EhzgDcCe",
        "colab_type": "text"
      },
      "source": [
        "**Comprension del negocio**"
      ]
    }
  ]
}